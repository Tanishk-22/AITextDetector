{
 "cells": [
  {
   "cell_type": "markdown",
   "id": "bba7de2e",
   "metadata": {},
   "source": [
    "# Imports"
   ]
  },
  {
   "cell_type": "code",
   "execution_count": 1,
   "id": "e060890a",
   "metadata": {},
   "outputs": [
    {
     "name": "stderr",
     "output_type": "stream",
     "text": [
      "c:\\Users\\Fawaz\\Desktop\\AI_Text_Detector\\.venv\\Lib\\site-packages\\tqdm\\auto.py:21: TqdmWarning: IProgress not found. Please update jupyter and ipywidgets. See https://ipywidgets.readthedocs.io/en/stable/user_install.html\n",
      "  from .autonotebook import tqdm as notebook_tqdm\n"
     ]
    }
   ],
   "source": [
    "# Import required libraries\n",
    "import torch\n",
    "from transformers import DistilBertTokenizerFast, DistilBertForSequenceClassification\n",
    "from torch.nn.functional import softmax\n",
    "import os\n",
    "from pathlib import Path"
   ]
  },
  {
   "cell_type": "markdown",
   "id": "c8345529",
   "metadata": {},
   "source": [
    "# Checking for gpu( Since one of us have a gpu)"
   ]
  },
  {
   "cell_type": "code",
   "execution_count": 2,
   "id": "1bcd305e",
   "metadata": {},
   "outputs": [
    {
     "name": "stdout",
     "output_type": "stream",
     "text": [
      "Using device: cpu\n",
      "CUDA is not available, using CPU\n"
     ]
    }
   ],
   "source": [
    "# Set device (GPU if available, otherwise CPU)\n",
    "device = torch.device(\"cuda:0\" if torch.cuda.is_available() else \"cpu\")\n",
    "print(f\"Using device: {device}\")\n",
    "\n",
    "# Check CUDA availability\n",
    "if torch.cuda.is_available():\n",
    "    print(\"CUDA is available\")\n",
    "    print(f\"Device count: {torch.cuda.device_count()}\")\n",
    "    print(f\"Current device name: {torch.cuda.get_device_name(torch.cuda.current_device())}\")\n",
    "else:\n",
    "    print(\"CUDA is not available, using CPU\")"
   ]
  },
  {
   "cell_type": "markdown",
   "id": "e81f2ca7",
   "metadata": {},
   "source": [
    "# Loading the saved model from pt1"
   ]
  },
  {
   "cell_type": "code",
   "execution_count": 3,
   "id": "8c05eb16",
   "metadata": {},
   "outputs": [
    {
     "data": {
      "text/plain": [
       "DistilBertForSequenceClassification(\n",
       "  (distilbert): DistilBertModel(\n",
       "    (embeddings): Embeddings(\n",
       "      (word_embeddings): Embedding(30522, 768, padding_idx=0)\n",
       "      (position_embeddings): Embedding(512, 768)\n",
       "      (LayerNorm): LayerNorm((768,), eps=1e-12, elementwise_affine=True)\n",
       "      (dropout): Dropout(p=0.1, inplace=False)\n",
       "    )\n",
       "    (transformer): Transformer(\n",
       "      (layer): ModuleList(\n",
       "        (0-5): 6 x TransformerBlock(\n",
       "          (attention): DistilBertSdpaAttention(\n",
       "            (dropout): Dropout(p=0.1, inplace=False)\n",
       "            (q_lin): Linear(in_features=768, out_features=768, bias=True)\n",
       "            (k_lin): Linear(in_features=768, out_features=768, bias=True)\n",
       "            (v_lin): Linear(in_features=768, out_features=768, bias=True)\n",
       "            (out_lin): Linear(in_features=768, out_features=768, bias=True)\n",
       "          )\n",
       "          (sa_layer_norm): LayerNorm((768,), eps=1e-12, elementwise_affine=True)\n",
       "          (ffn): FFN(\n",
       "            (dropout): Dropout(p=0.1, inplace=False)\n",
       "            (lin1): Linear(in_features=768, out_features=3072, bias=True)\n",
       "            (lin2): Linear(in_features=3072, out_features=768, bias=True)\n",
       "            (activation): GELUActivation()\n",
       "          )\n",
       "          (output_layer_norm): LayerNorm((768,), eps=1e-12, elementwise_affine=True)\n",
       "        )\n",
       "      )\n",
       "    )\n",
       "  )\n",
       "  (pre_classifier): Linear(in_features=768, out_features=768, bias=True)\n",
       "  (classifier): Linear(in_features=768, out_features=2, bias=True)\n",
       "  (dropout): Dropout(p=0.2, inplace=False)\n",
       ")"
      ]
     },
     "execution_count": 3,
     "metadata": {},
     "output_type": "execute_result"
    }
   ],
   "source": [
    "# Load the fine-tuned model and tokenizer\n",
    "model_path = r\"C:\\Users\\Fawaz\\Desktop\\AI_Text_Detector\\human-ai-model\"\n",
    "\n",
    "# Load tokenizer\n",
    "tokenizer = DistilBertTokenizerFast.from_pretrained(model_path)\n",
    "\n",
    "# Load model\n",
    "model = DistilBertForSequenceClassification.from_pretrained(model_path)\n",
    "model.to(device)\n",
    "model.eval()\n"
   ]
  },
  {
   "cell_type": "markdown",
   "id": "c108d005",
   "metadata": {},
   "source": [
    "# Prediction function with pre-processing"
   ]
  },
  {
   "cell_type": "code",
   "execution_count": null,
   "id": "7f110b89",
   "metadata": {},
   "outputs": [],
   "source": [
    "# Define the prediction function\n",
    "def predict(text: str, model, tokenizer):\n",
    "    # Tokenizing the input text\n",
    "    inputs = tokenizer(\n",
    "        text, \n",
    "        return_tensors=\"pt\", \n",
    "        truncation=True, \n",
    "        padding=\"max_length\", \n",
    "        max_length=128\n",
    "    ).to(device)\n",
    "    \n",
    "    # Making  prediction\n",
    "    with torch.no_grad():\n",
    "        outputs = model(**inputs)\n",
    "        probs = softmax(outputs.logits, dim=1).squeeze()\n",
    "        pred = torch.argmax(probs).item()\n",
    "    \n",
    "    # Prediction label and confidence\n",
    "    label = \"Human\" if pred == 0 else \"AI\"\n",
    "    confidence = probs[pred].item()\n",
    "    \n",
    "    return f\"{label} (Confidence: {confidence:.3f})\""
   ]
  },
  {
   "cell_type": "markdown",
   "id": "39271e7c",
   "metadata": {},
   "source": [
    "# Tesing the model(Replace your text in the input list to test it)"
   ]
  },
  {
   "cell_type": "code",
   "execution_count": null,
   "id": "cd048147",
   "metadata": {},
   "outputs": [
    {
     "name": "stdout",
     "output_type": "stream",
     "text": [
      "\n",
      "1. Text:  With the growing chains of fast-food restaurants and street foods, the young generation today has become more addicted to eating outside and are dependent on these junk foods. This has become a new trend in modern culture. Also, the marketing of various food brands such as KFC, Pizza Hut, Domino’s and McDonald’s have attracted more youngsters to go and consume such food items. Although these items taste good but are not at all considered healthy for our bodies. With their higher level of proteins, sugar and saturated fats, they tend to increase the cholesterol level in our body. They do not contribute to providing nutritional values required for the immune system and lack essential vitamins and minerals. \n",
      "\n",
      "\n",
      "\n",
      "Due to the busy day-to-day life, we often prefer ordering food from outside or munching on some snacks to satisfy our hunger. As a result, this has increased our addiction to eating junk every day. We often enjoy eating food that satisfies our taste buds and is less time-consuming. Since these junk foods are easily found nowadays with just a click on our phone, we tend to eat more of them. But we should keep in mind that these create a harmful impact on our body later and give rise to several health problems.\n",
      "\n",
      "\n",
      "\n",
      "As per reports, the increase in the number of obesity cases has resulted due to the regular consumption of junk food items. Some of the severe health issues include cardiovascular diseases, a higher risk of obesity, PCOD/PCOS in females and several other chronic diseases which have a greater impact on our body and mental health.\n",
      "\n",
      "\n",
      "\n",
      "Some of the commonly eaten junk foods include pizzas, burgers, deep-fries, food items made of processed cheese and and high protein meat. Even some of the breakfast items and cereals tend to contain high amounts of sugar content.\n",
      "   Prediction: AI (Confidence: 1.000)\n",
      "\n",
      "2. Text: \n",
      "Junk food refers to foods that are high in calories, sugar, fat, and salt but low in essential nutrients like vitamins, minerals, and fiber. These foods are often quick and convenient, appealing to busy lifestyles, but they come with significant health risks when consumed regularly.\n",
      "\n",
      "One of the primary concerns with junk food is its contribution to obesity. Many junk foods are calorically dense but offer little nutritional value, leading to overconsumption without providing the body with the nutrients it needs. This imbalance often results in weight gain and, over time, can contribute to serious health issues like heart disease, diabetes, and high blood pressure.\n",
      "\n",
      "Additionally, junk food is often addictive due to its combination of fats, sugars, and salt, which trigger pleasure centers in the brain. This can lead to overeating and unhealthy eating habits. Processed foods like chips, sodas, and fast food meals also have a detrimental impact on the digestive system and may increase the risk of conditions like acid reflux and gastritis.\n",
      "\n",
      "While junk food may offer a temporary sense of satisfaction, the long-term effects are harmful. In moderation, indulgence in these foods may not pose a significant threat, but consistent consumption can lead to poor health outcomes. As a result, it's crucial to prioritize a balanced diet rich in fruits, vegetables, whole grains, and lean proteins to ensure overall health and well-being.\n",
      "\n",
      "   Prediction: AI (Confidence: 1.000)\n"
     ]
    }
   ],
   "source": [
    "# Test the model with some example texts\n",
    "input = [\n",
    "    \"\"\" With the growing chains of fast-food restaurants and street foods, the young generation today has become more addicted to eating outside and are dependent on these junk foods. This has become a new trend in modern culture. Also, the marketing of various food brands such as KFC, Pizza Hut, Domino’s and McDonald’s have attracted more youngsters to go and consume such food items. Although these items taste good but are not at all considered healthy for our bodies. With their higher level of proteins, sugar and saturated fats, they tend to increase the cholesterol level in our body. They do not contribute to providing nutritional values required for the immune system and lack essential vitamins and minerals. \n",
    "\n",
    "\n",
    "\n",
    "Due to the busy day-to-day life, we often prefer ordering food from outside or munching on some snacks to satisfy our hunger. As a result, this has increased our addiction to eating junk every day. We often enjoy eating food that satisfies our taste buds and is less time-consuming. Since these junk foods are easily found nowadays with just a click on our phone, we tend to eat more of them. But we should keep in mind that these create a harmful impact on our body later and give rise to several health problems.\n",
    "\n",
    "\n",
    "\n",
    "As per reports, the increase in the number of obesity cases has resulted due to the regular consumption of junk food items. Some of the severe health issues include cardiovascular diseases, a higher risk of obesity, PCOD/PCOS in females and several other chronic diseases which have a greater impact on our body and mental health.\n",
    "\n",
    "\n",
    "\n",
    "Some of the commonly eaten junk foods include pizzas, burgers, deep-fries, food items made of processed cheese and and high protein meat. Even some of the breakfast items and cereals tend to contain high amounts of sugar content.\"\"\",\n",
    "\n",
    "\n",
    "\"\"\"\n",
    "Junk food refers to foods that are high in calories, sugar, fat, and salt but low in essential nutrients like vitamins, minerals, and fiber. These foods are often quick and convenient, appealing to busy lifestyles, but they come with significant health risks when consumed regularly.\n",
    "\n",
    "One of the primary concerns with junk food is its contribution to obesity. Many junk foods are calorically dense but offer little nutritional value, leading to overconsumption without providing the body with the nutrients it needs. This imbalance often results in weight gain and, over time, can contribute to serious health issues like heart disease, diabetes, and high blood pressure.\n",
    "\n",
    "Additionally, junk food is often addictive due to its combination of fats, sugars, and salt, which trigger pleasure centers in the brain. This can lead to overeating and unhealthy eating habits. Processed foods like chips, sodas, and fast food meals also have a detrimental impact on the digestive system and may increase the risk of conditions like acid reflux and gastritis.\n",
    "\n",
    "While junk food may offer a temporary sense of satisfaction, the long-term effects are harmful. In moderation, indulgence in these foods may not pose a significant threat, but consistent consumption can lead to poor health outcomes. As a result, it's crucial to prioritize a balanced diet rich in fruits, vegetables, whole grains, and lean proteins to ensure overall health and well-being.\n",
    "\"\"\"\n",
    "\n",
    "]\n",
    "\n",
    "for i, text in enumerate(input, 1):\n",
    "    prediction = predict(text, model, tokenizer)\n",
    "    print(f\"\\n{i}. Text: {text}\")\n",
    "    print(f\"   Prediction: {prediction}\")"
   ]
  }
 ],
 "metadata": {
  "kernelspec": {
   "display_name": ".venv (3.13.5)",
   "language": "python",
   "name": "python3"
  },
  "language_info": {
   "codemirror_mode": {
    "name": "ipython",
    "version": 3
   },
   "file_extension": ".py",
   "mimetype": "text/x-python",
   "name": "python",
   "nbconvert_exporter": "python",
   "pygments_lexer": "ipython3",
   "version": "3.13.5"
  }
 },
 "nbformat": 4,
 "nbformat_minor": 5
}
