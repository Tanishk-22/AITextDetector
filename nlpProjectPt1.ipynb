{
  "cells": [
    {
      "cell_type": "markdown",
      "metadata": {
        "id": "7r_FC1_Zcq4F"
      },
      "source": [
        "# Imports and Loading"
      ]
    },
    {
      "cell_type": "code",
      "execution_count": 6,
      "metadata": {
        "colab": {
          "base_uri": "https://localhost:8080/"
        },
        "id": "9IRSMSJCl5_9",
        "outputId": "4df7adce-e2d7-4816-cca5-32a4e1f2bcd0"
      },
      "outputs": [
        {
          "name": "stdout",
          "output_type": "stream",
          "text": [
            "Requirement already satisfied: nltk in /usr/local/lib/python3.11/dist-packages (3.9.1)\n",
            "Requirement already satisfied: click in /usr/local/lib/python3.11/dist-packages (from nltk) (8.2.1)\n",
            "Requirement already satisfied: joblib in /usr/local/lib/python3.11/dist-packages (from nltk) (1.5.1)\n",
            "Requirement already satisfied: regex>=2021.8.3 in /usr/local/lib/python3.11/dist-packages (from nltk) (2024.11.6)\n",
            "Requirement already satisfied: tqdm in /usr/local/lib/python3.11/dist-packages (from nltk) (4.67.1)\n"
          ]
        },
        {
          "name": "stderr",
          "output_type": "stream",
          "text": [
            "[nltk_data] Downloading package stopwords to /root/nltk_data...\n",
            "[nltk_data]   Package stopwords is already up-to-date!\n"
          ]
        }
      ],
      "source": [
        "!pip install nltk\n",
        "\n",
        "import os\n",
        "import pandas as pd\n",
        "import numpy as np\n",
        "import re\n",
        "import matplotlib.pyplot as plt\n",
        "from sklearn.feature_extraction.text import CountVectorizer\n",
        "from sklearn.model_selection import train_test_split\n",
        "from sklearn.naive_bayes import MultinomialNB\n",
        "from sklearn.metrics import accuracy_score, classification_report, confusion_matrix\n",
        "import nltk\n",
        "nltk.download('stopwords')\n",
        "from nltk.corpus import stopwords\n",
        "import string\n",
        "from sklearn.feature_extraction.text import TfidfVectorizer\n",
        "import pandas as pd\n",
        "from google.colab import drive\n"
      ]
    },
    {
      "cell_type": "markdown",
      "metadata": {},
      "source": [
        "# Loading the dataset"
      ]
    },
    {
      "cell_type": "code",
      "execution_count": 7,
      "metadata": {
        "colab": {
          "base_uri": "https://localhost:8080/"
        },
        "id": "nCUgkunzia7H",
        "outputId": "f1e7e8af-ab83-4f98-ffe7-65a1dbf07037"
      },
      "outputs": [
        {
          "name": "stdout",
          "output_type": "stream",
          "text": [
            "                                                text  generated\n",
            "0  Cars. Cars have been around since they became ...        0.0\n",
            "1  Transportation is a large necessity in most co...        0.0\n",
            "2  \"America's love affair with it's vehicles seem...        0.0\n",
            "3  How often do you ride in a car? Do you drive a...        0.0\n",
            "4  Cars are a wonderful thing. They are perhaps o...        0.0\n"
          ]
        }
      ],
      "source": [
        "df = pd.read_csv(r\"/content/drive/MyDrive/AI_Human.csv\")\n",
        "\n",
        "print(df.head())\n"
      ]
    },
    {
      "cell_type": "markdown",
      "metadata": {
        "id": "mDn0lSRvcoAf"
      },
      "source": [
        "# EDA"
      ]
    },
    {
      "cell_type": "code",
      "execution_count": 8,
      "metadata": {
        "colab": {
          "base_uri": "https://localhost:8080/",
          "height": 536
        },
        "id": "_aN7Cd4zilbs",
        "outputId": "5a419a60-695a-4f3e-ccb3-e8ae366e753f"
      },
      "outputs": [
        {
          "name": "stdout",
          "output_type": "stream",
          "text": [
            "Class distribution:\n",
            "generated\n",
            "0.0    305797\n",
            "1.0    181438\n",
            "Name: count, dtype: int64\n"
          ]
        },
        {
          "data": {
            "image/png": "[encoded data removed]",
            "text/plain": [
              "<Figure size 640x480 with 1 Axes>"
            ]
          },
          "metadata": {},
          "output_type": "display_data"
        }
      ],
      "source": [
        "print(\"Class distribution:\")\n",
        "print(df['generated'].value_counts())\n",
        "\n",
        "length = df['text'].str.len()\n",
        "plt.figure()\n",
        "plt.hist(length, bins=100)\n",
        "plt.xlabel(\"Length\")\n",
        "plt.ylabel(\"Count\")\n",
        "plt.show()\n"
      ]
    },
    {
      "cell_type": "code",
      "execution_count": 9,
      "metadata": {
        "colab": {
          "base_uri": "https://localhost:8080/"
        },
        "id": "jWAx7mNPug-O",
        "outputId": "5cef3ce1-9b63-48ad-9374-62b31409c2a7"
      },
      "outputs": [
        {
          "name": "stdout",
          "output_type": "stream",
          "text": [
            "Avg length: 2269.586591685737 Median length: 2102.0\n"
          ]
        }
      ],
      "source": [
        "print(\"Avg length:\", length.mean(), \"Median length:\", length.median())"
      ]
    },
    {
      "cell_type": "code",
      "execution_count": 10,
      "metadata": {
        "colab": {
          "base_uri": "https://localhost:8080/"
        },
        "id": "ogeTBaDuzHJk",
        "outputId": "f098473a-9166-4abe-afb4-e6bb5d330ceb"
      },
      "outputs": [
        {
          "name": "stdout",
          "output_type": "stream",
          "text": [
            "\n",
            "Vocabulary size: 259050\n",
            "Top 20 words:\n",
            "  the: 8798730\n",
            "  to: 6577811\n",
            "  and: 5073571\n",
            "  of: 3975320\n",
            "  in: 3314216\n",
            "  that: 3060873\n",
            "  is: 2735349\n",
            "  it: 2560144\n",
            "  for: 2056938\n",
            "  you: 1971510\n",
            "  be: 1855493\n",
            "  they: 1758608\n",
            "  can: 1646660\n",
            "  are: 1621389\n",
            "  have: 1558646\n",
            "  on: 1405647\n",
            "  this: 1352763\n",
            "  not: 1265688\n",
            "  their: 1200997\n",
            "  students: 1198790\n"
          ]
        }
      ],
      "source": [
        "\n",
        "vectorizer = CountVectorizer()\n",
        "count   = vectorizer.fit_transform(df['text'])\n",
        "vocab      = vectorizer.get_feature_names_out()\n",
        "word_freq  = np.asarray(count.sum(axis=0)).flatten()\n",
        "top_idx    = word_freq.argsort()[::-1][:20]\n",
        "\n",
        "print(\"\\nVocabulary size:\", len(vocab))\n",
        "print(\"Top 20 words:\")\n",
        "for idx in top_idx:\n",
        "    print(f\"  {vocab[idx]}: {word_freq[idx]}\")\n"
      ]
    },
    {
      "cell_type": "markdown",
      "metadata": {
        "id": "3BXg_VUicvGn"
      },
      "source": [
        "# Pre-processing the dataset with custom logic"
      ]
    },
    {
      "cell_type": "code",
      "execution_count": 11,
      "metadata": {
        "id": "qSKerwrR0m8K"
      },
      "outputs": [],
      "source": [
        "# Preprocessing: lowercase only, whitespace‐tokenize\n",
        "def preprocess(text: str) -> str:\n",
        "    # just lowercase—keep punctuation & stopwords\n",
        "    return text.lower()\n",
        "\n",
        "# apply to DataFrame\n",
        "df['preprocessed_text'] = df['text'].apply(preprocess)\n",
        "\n",
        "\n",
        "vectorizer = TfidfVectorizer(\n",
        "    max_features=10_000,\n",
        "    ngram_range=(1,2),\n",
        "    # this regex keeps any non-whitespace, non-word character as its own token\n",
        "    token_pattern=r'(?u)\\b\\w+\\b|[^\\w\\s]'\n",
        ")\n",
        "\n",
        "X_tfidf = vectorizer.fit_transform(df['preprocessed_text'])\n"
      ]
    },
    {
      "cell_type": "markdown",
      "metadata": {
        "id": "Iu6-sqdGsq66"
      },
      "source": [
        "### Reasoning behind this pre-processing\n",
        " Many of the AI generated content are grammatically too accurate with correct usage of punctuations(such as the infamous – in gpt), whereas for human written context we tend to use more stopwords and less punctations in our texts. Therefore, we made a decision to not remove them and use them in training.\n"
      ]
    },
    {
      "cell_type": "markdown",
      "metadata": {},
      "source": [
        "# Train-test split and Model Fitting"
      ]
    },
    {
      "cell_type": "code",
      "execution_count": 12,
      "metadata": {
        "colab": {
          "base_uri": "https://localhost:8080/"
        },
        "id": "bU2N7CnW1WyK",
        "outputId": "5d3b723f-cd32-4ab9-dcbc-3f7d67ecd377"
      },
      "outputs": [
        {
          "name": "stdout",
          "output_type": "stream",
          "text": [
            "Accuracy: 0.9634673206974047\n",
            "              precision    recall  f1-score   support\n",
            "\n",
            "       Human       0.96      0.99      0.97     61159\n",
            "          AI       0.97      0.93      0.95     36288\n",
            "\n",
            "    accuracy                           0.96     97447\n",
            "   macro avg       0.97      0.96      0.96     97447\n",
            "weighted avg       0.96      0.96      0.96     97447\n",
            "\n",
            "Confusion Matrix:\n",
            " [[60288   871]\n",
            " [ 2689 33599]]\n"
          ]
        }
      ],
      "source": [
        "#Splitting the dataset\n",
        "X_train, X_test, y_train, y_test = train_test_split(\n",
        "    X_tfidf,\n",
        "    df['generated'].astype(int),\n",
        "    test_size=0.2,\n",
        "    stratify=df['generated'],\n",
        "    random_state=42\n",
        ")\n",
        "\n",
        "# Fitting and Evaluation\n",
        "nb = MultinomialNB()\n",
        "nb.fit(X_train, y_train)\n",
        "\n",
        "y_pred = nb.predict(X_test)\n",
        "print(\"Accuracy:\", accuracy_score(y_test, y_pred))\n",
        "print(classification_report(y_test, y_pred, target_names=['Human','AI']))\n",
        "print(\"Confusion Matrix:\\n\", confusion_matrix(y_test, y_pred))\n"
      ]
    },
    {
      "cell_type": "markdown",
      "metadata": {},
      "source": [
        "# Using the trained model for prediction"
      ]
    },
    {
      "cell_type": "code",
      "execution_count": 13,
      "metadata": {
        "colab": {
          "base_uri": "https://localhost:8080/"
        },
        "id": "KgsMy2Qv3gO_",
        "outputId": "99889a32-ffd6-4396-f0b6-372539ca5c58"
      },
      "outputs": [
        {
          "name": "stdout",
          "output_type": "stream",
          "text": [
            "\n",
            "Text:\n",
            "In the ever-evolving tapestry of global economic systems, capitalism stands as a dominant force shaping the modern world. From the bustling financial hubs of New York and London to the tech-savvy metropolises of Silicon Valley and Bangalore, capitalism has underpinned the dynamic growth of innovation, enterprise, and wealth creation. Critics have long pointed out capitalism's inequalities, but its proponents argue—often convincingly—that no other system has driven as much prosperity, lifted so many out of poverty, and incentivized innovation to the same extent. In today’s interconnected and fast-paced world, capitalism is not only relevant but essential; it acts as a powerful engine for economic growth, individual freedom, technological advancement, and global development.\n",
            "\n",
            "Understanding Capitalism\n",
            "Capitalism is an economic system characterized by private ownership of the means of production, profit-driven enterprise, free markets, and minimal government intervention in the economy. Under capitalism, individuals and businesses operate in a competitive environment to offer goods and services that meet consumer demands. The price mechanism—supply and demand—largely determines production and distribution.\n",
            "\n",
            "Capitalism differs markedly from other economic systems like socialism or communism, where central planning and public ownership of resources dominate. The inherent freedom and decentralization in capitalism allow for greater flexibility, responsiveness to consumer needs, and encouragement of entrepreneurial spirit.\n",
            "\n",
            "Economic Growth and Wealth Creation\n",
            "Perhaps capitalism's most visible success is its unmatched ability to generate economic growth. Historically, capitalist nations have experienced faster growth in GDP compared to those that adopted alternative economic models. From the Industrial Revolution to the current digital age, capitalist economies have been at the forefront of technological revolutions and large-scale infrastructure developments.\n",
            "\n",
            "Take the United States, for example. Its capitalist framework has allowed it to become the largest economy in the world, fostering companies like Apple, Microsoft, Amazon, and Tesla—firms that did not just emerge from innovation but thrived because of competitive market forces and the pursuit of profit. This system has created jobs, increased standards of living, and generated significant tax revenues for public investment in education, healthcare, and infrastructure.\n",
            "\n",
            "Incentivizing Innovation\n",
            "Capitalism thrives on competition, and this competition drives innovation. When companies vie for market share, they are compelled to offer better products, more efficient services, and cutting-edge technologies. Innovation is not merely encouraged in capitalism—it is essential for survival.\n",
            "\n",
            "The tech boom of the 21st century is a direct result of capitalist incentives. Whether it's Google revolutionizing search, Amazon transforming retail logistics, or SpaceX making private space travel feasible, these developments happened not under government mandates but through the drive of private entrepreneurs seeking to solve problems—and profit in the process.\n",
            "\n",
            "Moreover, capitalism creates a feedback loop: as consumers reward the best innovations with their spending, it provides market validation and capital to further develop and refine technologies. This self-sustaining loop has made.\n",
            "Prediction: AI\n",
            "\n",
            "Text:\n",
            "I believe capatalism is kinda wrong because you know with all that happening in this world. I mean who would have guessed, that communism is making a comeback. Let me rephrase that, not communism, socialist democracy is making a comeback.\n",
            "Prediction: Human\n"
          ]
        }
      ],
      "source": [
        "#Prediction\n",
        "def predict(texts, model, vectorizer):\n",
        "    if isinstance(texts, str):\n",
        "        texts = [texts]\n",
        "    cleaned = [t.lower() for t in texts]\n",
        "    vecs = vectorizer.transform(cleaned)\n",
        "    preds = model.predict(vecs)\n",
        "    return ['Human' if p == 0 else 'AI' for p in preds]\n",
        "\n",
        "# Tests inputs\n",
        "input = [\n",
        "    \"\"\"In the ever-evolving tapestry of global economic systems, capitalism stands as a dominant force shaping the modern world. From the bustling financial hubs of New York and London to the tech-savvy metropolises of Silicon Valley and Bangalore, capitalism has underpinned the dynamic growth of innovation, enterprise, and wealth creation. Critics have long pointed out capitalism's inequalities, but its proponents argue—often convincingly—that no other system has driven as much prosperity, lifted so many out of poverty, and incentivized innovation to the same extent. In today’s interconnected and fast-paced world, capitalism is not only relevant but essential; it acts as a powerful engine for economic growth, individual freedom, technological advancement, and global development.\n",
        "\n",
        "Understanding Capitalism\n",
        "Capitalism is an economic system characterized by private ownership of the means of production, profit-driven enterprise, free markets, and minimal government intervention in the economy. Under capitalism, individuals and businesses operate in a competitive environment to offer goods and services that meet consumer demands. The price mechanism—supply and demand—largely determines production and distribution.\n",
        "\n",
        "Capitalism differs markedly from other economic systems like socialism or communism, where central planning and public ownership of resources dominate. The inherent freedom and decentralization in capitalism allow for greater flexibility, responsiveness to consumer needs, and encouragement of entrepreneurial spirit.\n",
        "\n",
        "Economic Growth and Wealth Creation\n",
        "Perhaps capitalism's most visible success is its unmatched ability to generate economic growth. Historically, capitalist nations have experienced faster growth in GDP compared to those that adopted alternative economic models. From the Industrial Revolution to the current digital age, capitalist economies have been at the forefront of technological revolutions and large-scale infrastructure developments.\n",
        "\n",
        "Take the United States, for example. Its capitalist framework has allowed it to become the largest economy in the world, fostering companies like Apple, Microsoft, Amazon, and Tesla—firms that did not just emerge from innovation but thrived because of competitive market forces and the pursuit of profit. This system has created jobs, increased standards of living, and generated significant tax revenues for public investment in education, healthcare, and infrastructure.\n",
        "\n",
        "Incentivizing Innovation\n",
        "Capitalism thrives on competition, and this competition drives innovation. When companies vie for market share, they are compelled to offer better products, more efficient services, and cutting-edge technologies. Innovation is not merely encouraged in capitalism—it is essential for survival.\n",
        "\n",
        "The tech boom of the 21st century is a direct result of capitalist incentives. Whether it's Google revolutionizing search, Amazon transforming retail logistics, or SpaceX making private space travel feasible, these developments happened not under government mandates but through the drive of private entrepreneurs seeking to solve problems—and profit in the process.\n",
        "\n",
        "Moreover, capitalism creates a feedback loop: as consumers reward the best innovations with their spending, it provides market validation and capital to further develop and refine technologies. This self-sustaining loop has made.\"\"\",\n",
        "    \"I believe capatalism is kinda wrong because you know with all that happening in this world. I mean who would have guessed, that communism is making a comeback. Let me rephrase that, not communism, socialist democracy is making a comeback.\"\n",
        "\n",
        "]\n",
        "\n",
        "#  Predictions using the model\n",
        "result = predict(input, nb, vectorizer)\n",
        "\n",
        "# Results\n",
        "for text, label in zip(input, result):\n",
        "    print(f\"\\nText:\\n{text}\\nPrediction: {label}\")\n",
        "\n",
        "\n",
        "\n",
        "\n",
        "\n",
        "\n",
        "\n"
      ]
    },
    {
      "cell_type": "markdown",
      "metadata": {},
      "source": [
        "# Loading the model and testing it for verification"
      ]
    },
    {
      "cell_type": "code",
      "execution_count": 14,
      "metadata": {
        "colab": {
          "base_uri": "https://localhost:8080/"
        },
        "id": "OmWC03ezZRJM",
        "outputId": "14c9a195-9195-4504-89b1-55351c7f6d7a"
      },
      "outputs": [
        {
          "name": "stdout",
          "output_type": "stream",
          "text": [
            "Model saved to /content/drive/MyDrive/nbAihuman.pkl\n"
          ]
        }
      ],
      "source": [
        "import pickle\n",
        "\n",
        "model = {\n",
        "    'model': nb,\n",
        "    'vectorizer': vectorizer\n",
        "}\n",
        "\n",
        "save_path = '/content/drive/MyDrive/nbAihuman.pkl'\n",
        "\n",
        "with open(save_path, 'wb') as f:\n",
        "    pickle.dump(model, f)\n",
        "\n",
        "print(f\"Model saved to {save_path}\")\n"
      ]
    },
    {
      "cell_type": "code",
      "execution_count": 16,
      "metadata": {
        "colab": {
          "base_uri": "https://localhost:8080/"
        },
        "id": "9hsR5kbkd-SJ",
        "outputId": "17651a45-4012-4bfa-be42-135cb0684516"
      },
      "outputs": [
        {
          "name": "stdout",
          "output_type": "stream",
          "text": [
            "\n",
            "Text:\n",
            "This is a great model.\n",
            "Prediction: Human\n",
            "\n",
            "Text:\n",
            "I dont vibe with these weirdos\n",
            "Prediction: Human\n"
          ]
        }
      ],
      "source": [
        "# Inference function\n",
        "def predict(texts, model, vectorizer):\n",
        "    if isinstance(texts, str):\n",
        "        texts = [texts]\n",
        "    cleaned = [t.lower() for t in texts]  # pre-processing\n",
        "    vecs = vectorizer.transform(cleaned)\n",
        "    preds = model.predict(vecs)\n",
        "    return ['Human' if p == 0 else 'AI' for p in preds]\n",
        "\n",
        "\n",
        "input = [\n",
        "    \"This is a great model.\",\n",
        "    \"I dont vibe with these weirdos\"\n",
        "]\n",
        "\n",
        "# Prediction\n",
        "results = predict(input, nb, vectorizer)\n",
        "\n",
        "# Result\n",
        "for text, label in zip(input, results):\n",
        "    print(f\"\\nText:\\n{text}\\nPrediction: {label}\")\n"
      ]
    }
  ],
  "metadata": {
    "accelerator": "GPU",
    "colab": {
      "gpuType": "T4",
      "provenance": []
    },
    "kernelspec": {
      "display_name": "Python 3",
      "name": "python3"
    },
    "language_info": {
      "name": "python"
    }
  },
  "nbformat": 4,
  "nbformat_minor": 0
}
